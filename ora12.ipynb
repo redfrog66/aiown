{
 "cells": [
  {
   "cell_type": "markdown",
   "id": "5152c029",
   "metadata": {},
   "source": [
    "## 12. óra"
   ]
  },
  {
   "cell_type": "markdown",
   "id": "2da5599b",
   "metadata": {},
   "source": [
    "# Megerősítéses tanulás I."
   ]
  },
  {
   "cell_type": "code",
   "execution_count": 1,
   "id": "b8e3f59b",
   "metadata": {},
   "outputs": [],
   "source": [
    "from IPython.display import Image\n",
    "from IPython.display import Video "
   ]
  },
  {
   "attachments": {},
   "cell_type": "markdown",
   "id": "fbdc6217",
   "metadata": {},
   "source": [
    "# Q-learning"
   ]
  },
  {
   "attachments": {},
   "cell_type": "markdown",
   "id": "4cc9561d",
   "metadata": {},
   "source": [
    "Minden cselekvésnek van egy értéke és keressük azt, amelyiknek a legjobb az értéke."
   ]
  },
  {
   "attachments": {},
   "cell_type": "markdown",
   "id": "0d653dfe",
   "metadata": {},
   "source": [
    "Nem szabály alapú, véletlenszerűséget használ. Arra törekszik, hogy a jelenlegi állapothoz képest megtalálja a legjobb lépést."
   ]
  },
  {
   "attachments": {},
   "cell_type": "markdown",
   "id": "0e784cb9",
   "metadata": {},
   "source": [
    "## Q-tábla\n",
    "q-tábla vagy mátrix, amely követi az [állapot, cselekvés alapját]. Értékeinket 0-ra inicializáljuk és minden egyes művelet (epizód) után frissítjük. Referenciatáblázattá válik az ügynökünk számára (ágens), hogy a q-érték alapján kiválaszthassa a legjobb műveletet."
   ]
  },
  {
   "cell_type": "code",
   "execution_count": 3,
   "id": "abefe831",
   "metadata": {},
   "outputs": [
    {
     "data": {
      "text/plain": [
       "array([[0., 0., 0., 0., 0., 0., 0., 0., 0., 0.],\n",
       "       [0., 0., 0., 0., 0., 0., 0., 0., 0., 0.],\n",
       "       [0., 0., 0., 0., 0., 0., 0., 0., 0., 0.],\n",
       "       [0., 0., 0., 0., 0., 0., 0., 0., 0., 0.],\n",
       "       [0., 0., 0., 0., 0., 0., 0., 0., 0., 0.]])"
      ]
     },
     "execution_count": 3,
     "metadata": {},
     "output_type": "execute_result"
    }
   ],
   "source": [
    "import numpy as np\n",
    "\n",
    "# inicialize q-table values to 0\n",
    "Q = np.zeros((5,10))\n",
    "Q"
   ]
  },
  {
   "attachments": {},
   "cell_type": "markdown",
   "id": "be2b613a",
   "metadata": {},
   "source": [
    "* Itt volt egy adag elméleti infó, csak tanárúr very gyors"
   ]
  },
  {
   "attachments": {},
   "cell_type": "markdown",
   "id": "9280568a",
   "metadata": {},
   "source": [
    "## PONG JÁTÉK Q-Learning segítségével"
   ]
  },
  {
   "cell_type": "code",
   "execution_count": 4,
   "id": "0666593e",
   "metadata": {},
   "outputs": [
    {
     "ename": "ModuleNotFoundError",
     "evalue": "No module named 'pygame'",
     "output_type": "error",
     "traceback": [
      "\u001b[1;31m---------------------------------------------------------------------------\u001b[0m",
      "\u001b[1;31mModuleNotFoundError\u001b[0m                       Traceback (most recent call last)",
      "Cell \u001b[1;32mIn[4], line 1\u001b[0m\n\u001b[1;32m----> 1\u001b[0m \u001b[39mimport\u001b[39;00m \u001b[39mpong\u001b[39;00m \u001b[39mas\u001b[39;00m \u001b[39mpong\u001b[39;00m\n",
      "File \u001b[1;32mc:\\Users\\hallgato\\Desktop\\mestint\\pong.py:1\u001b[0m\n\u001b[1;32m----> 1\u001b[0m \u001b[39mimport\u001b[39;00m \u001b[39mpygame\u001b[39;00m\n\u001b[0;32m      2\u001b[0m \u001b[39mimport\u001b[39;00m \u001b[39mnumpy\u001b[39;00m \u001b[39mas\u001b[39;00m \u001b[39mnp\u001b[39;00m\n\u001b[0;32m      3\u001b[0m \u001b[39mfrom\u001b[39;00m \u001b[39mtqdm\u001b[39;00m \u001b[39mimport\u001b[39;00m tqdm\n",
      "\u001b[1;31mModuleNotFoundError\u001b[0m: No module named 'pygame'"
     ]
    }
   ],
   "source": [
    "import pong as pong"
   ]
  },
  {
   "cell_type": "code",
   "execution_count": 5,
   "id": "26e86dd6",
   "metadata": {},
   "outputs": [
    {
     "name": "stdout",
     "output_type": "stream",
     "text": [
      "Collecting pygame\n",
      "  Downloading pygame-2.4.0-cp310-cp310-win_amd64.whl (10.6 MB)\n",
      "     --------------------------------------- 10.6/10.6 MB 24.2 MB/s eta 0:00:00\n",
      "Installing collected packages: pygame\n",
      "Successfully installed pygame-2.4.0\n",
      "Note: you may need to restart the kernel to use updated packages.\n"
     ]
    }
   ],
   "source": [
    "# %pip install pygame"
   ]
  },
  {
   "cell_type": "code",
   "execution_count": 6,
   "id": "a6448c2b",
   "metadata": {},
   "outputs": [
    {
     "name": "stdout",
     "output_type": "stream",
     "text": [
      "pygame 2.4.0 (SDL 2.26.4, Python 3.10.9)\n",
      "Hello from the pygame community. https://www.pygame.org/contribute.html\n"
     ]
    }
   ],
   "source": [
    "import pong as pong"
   ]
  },
  {
   "cell_type": "code",
   "execution_count": 8,
   "id": "8fe45075",
   "metadata": {},
   "outputs": [
    {
     "data": {
      "text/plain": [
       "('x', (255, 0, 0))"
      ]
     },
     "execution_count": 8,
     "metadata": {},
     "output_type": "execute_result"
    }
   ],
   "source": [
    "pong.SIGN_PLAYER, pong.RED"
   ]
  },
  {
   "cell_type": "code",
   "execution_count": 9,
   "id": "1b97f2ee",
   "metadata": {},
   "outputs": [
    {
     "name": "stdout",
     "output_type": "stream",
     "text": [
      "Pong init\n"
     ]
    }
   ],
   "source": [
    "pong.init_pong()"
   ]
  },
  {
   "cell_type": "code",
   "execution_count": 10,
   "id": "3eb32b38",
   "metadata": {},
   "outputs": [
    {
     "data": {
      "text/plain": [
       "['IDLE', 'LEFT', 'RIGHT']"
      ]
     },
     "execution_count": 10,
     "metadata": {},
     "output_type": "execute_result"
    }
   ],
   "source": [
    "pong.ACTIONS"
   ]
  },
  {
   "cell_type": "code",
   "execution_count": 17,
   "id": "23ec0633",
   "metadata": {},
   "outputs": [
    {
     "ename": "ImportError",
     "evalue": "cannot import name 'QLearningAgent' from 'qla' (c:\\Users\\hallgato\\Desktop\\mestint\\qla.py)",
     "output_type": "error",
     "traceback": [
      "\u001b[1;31m---------------------------------------------------------------------------\u001b[0m",
      "\u001b[1;31mImportError\u001b[0m                               Traceback (most recent call last)",
      "Cell \u001b[1;32mIn[17], line 1\u001b[0m\n\u001b[1;32m----> 1\u001b[0m \u001b[39mfrom\u001b[39;00m \u001b[39mqla\u001b[39;00m \u001b[39mimport\u001b[39;00m QLearningAgent\n\u001b[0;32m      3\u001b[0m pong\u001b[39m.\u001b[39magent \u001b[39m=\u001b[39m QLearningAgent(n_states\u001b[39m=\u001b[39mpong\u001b[39m.\u001b[39mnum_states, n_actions\u001b[39m=\u001b[39m\u001b[39m3\u001b[39m, learning_rate\u001b[39m=\u001b[39m\u001b[39m1.0\u001b[39m)\n\u001b[0;32m      4\u001b[0m pong\u001b[39m.\u001b[39magent\n",
      "\u001b[1;31mImportError\u001b[0m: cannot import name 'QLearningAgent' from 'qla' (c:\\Users\\hallgato\\Desktop\\mestint\\qla.py)"
     ]
    }
   ],
   "source": [
    "from qla import QLearningAgent\n",
    "\n",
    "pong.agent = QLearningAgent(n_states=pong.num_states, n_actions=3, learning_rate=1.0)\n",
    "pong.agent"
   ]
  }
 ],
 "metadata": {
  "kernelspec": {
   "display_name": "base",
   "language": "python",
   "name": "python3"
  },
  "language_info": {
   "codemirror_mode": {
    "name": "ipython",
    "version": 3
   },
   "file_extension": ".py",
   "mimetype": "text/x-python",
   "name": "python",
   "nbconvert_exporter": "python",
   "pygments_lexer": "ipython3",
   "version": "3.10.9"
  },
  "vscode": {
   "interpreter": {
    "hash": "c261f3924e72aa69aef7868af5b84af5428fba148b678aadbe4ca4a644ce44b2"
   }
  }
 },
 "nbformat": 4,
 "nbformat_minor": 5
}
