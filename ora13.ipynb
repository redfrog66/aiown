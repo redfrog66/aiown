{
 "cells": [
  {
   "cell_type": "code",
   "execution_count": 6,
   "metadata": {},
   "outputs": [
    {
     "ename": "ModuleNotFoundError",
     "evalue": "No module named 'pygame'",
     "output_type": "error",
     "traceback": [
      "\u001b[1;31m---------------------------------------------------------------------------\u001b[0m",
      "\u001b[1;31mModuleNotFoundError\u001b[0m                       Traceback (most recent call last)",
      "Cell \u001b[1;32mIn[6], line 1\u001b[0m\n\u001b[1;32m----> 1\u001b[0m \u001b[39mimport\u001b[39;00m \u001b[39mpong\u001b[39;00m \u001b[39mas\u001b[39;00m \u001b[39mpong\u001b[39;00m\n",
      "File \u001b[1;32mc:\\Users\\hallgato\\Desktop\\mestint\\pong.py:1\u001b[0m\n\u001b[1;32m----> 1\u001b[0m \u001b[39mimport\u001b[39;00m \u001b[39mpygame\u001b[39;00m\n\u001b[0;32m      2\u001b[0m \u001b[39mimport\u001b[39;00m \u001b[39mnumpy\u001b[39;00m \u001b[39mas\u001b[39;00m \u001b[39mnp\u001b[39;00m\n\u001b[0;32m      3\u001b[0m \u001b[39mfrom\u001b[39;00m \u001b[39mtqdm\u001b[39;00m \u001b[39mimport\u001b[39;00m tqdm\n",
      "\u001b[1;31mModuleNotFoundError\u001b[0m: No module named 'pygame'"
     ]
    }
   ],
   "source": [
    "\n"
   ]
  },
  {
   "cell_type": "code",
   "execution_count": 7,
   "metadata": {},
   "outputs": [
    {
     "name": "stdout",
     "output_type": "stream",
     "text": [
      "Defaulting to user installation because normal site-packages is not writeable\n",
      "Collecting pygame\n",
      "  Downloading pygame-2.4.0-cp311-cp311-win_amd64.whl (10.6 MB)\n",
      "                                              0.0/10.6 MB ? eta -:--:--\n",
      "     -                                        0.3/10.6 MB 8.9 MB/s eta 0:00:02\n",
      "     --                                       0.8/10.6 MB 10.0 MB/s eta 0:00:01\n",
      "     -----                                    1.4/10.6 MB 11.4 MB/s eta 0:00:01\n",
      "     --------                                 2.2/10.6 MB 12.8 MB/s eta 0:00:01\n",
      "     ------------                             3.3/10.6 MB 15.0 MB/s eta 0:00:01\n",
      "     -----------------                        4.6/10.6 MB 17.3 MB/s eta 0:00:01\n",
      "     -----------------------                  6.3/10.6 MB 20.1 MB/s eta 0:00:01\n",
      "     -------------------------------          8.4/10.6 MB 23.3 MB/s eta 0:00:01\n",
      "     --------------------------------------  10.6/10.6 MB 28.5 MB/s eta 0:00:01\n",
      "     --------------------------------------  10.6/10.6 MB 28.5 MB/s eta 0:00:01\n",
      "     --------------------------------------- 10.6/10.6 MB 24.2 MB/s eta 0:00:00\n",
      "Installing collected packages: pygame\n",
      "Successfully installed pygame-2.4.0\n",
      "Note: you may need to restart the kernel to use updated packages.\n"
     ]
    },
    {
     "name": "stderr",
     "output_type": "stream",
     "text": [
      "\n",
      "[notice] A new release of pip is available: 23.1 -> 23.1.2\n",
      "[notice] To update, run: python.exe -m pip install --upgrade pip\n"
     ]
    }
   ],
   "source": [
    "%pip install pygame"
   ]
  },
  {
   "cell_type": "code",
   "execution_count": 9,
   "metadata": {},
   "outputs": [
    {
     "name": "stdout",
     "output_type": "stream",
     "text": [
      "pygame 2.4.0 (SDL 2.26.4, Python 3.11.1)\n",
      "Hello from the pygame community. https://www.pygame.org/contribute.html\n"
     ]
    }
   ],
   "source": [
    "import pong as pong"
   ]
  },
  {
   "cell_type": "code",
   "execution_count": 10,
   "metadata": {},
   "outputs": [
    {
     "name": "stdout",
     "output_type": "stream",
     "text": [
      "Pong init\n"
     ]
    }
   ],
   "source": [
    "pong.init_pong()"
   ]
  },
  {
   "cell_type": "code",
   "execution_count": 11,
   "metadata": {},
   "outputs": [
    {
     "data": {
      "text/plain": [
       "<Surface(200x200x32 SW)>"
      ]
     },
     "execution_count": 11,
     "metadata": {},
     "output_type": "execute_result"
    }
   ],
   "source": [
    "pong.screen"
   ]
  },
  {
   "cell_type": "code",
   "execution_count": 12,
   "metadata": {},
   "outputs": [
    {
     "data": {
      "text/plain": [
       "<qla.QLearningAgent at 0x1e0f01a0850>"
      ]
     },
     "execution_count": 12,
     "metadata": {},
     "output_type": "execute_result"
    }
   ],
   "source": [
    "from qla import QLearningAgent\n",
    "\n",
    "pong.agent = QLearningAgent(n_states=pong.num_states, n_actions=3, learning_rate=1.0)\n",
    "pong.agent"
   ]
  },
  {
   "cell_type": "code",
   "execution_count": 13,
   "metadata": {},
   "outputs": [
    {
     "name": "stderr",
     "output_type": "stream",
     "text": [
      "  0%|          | 0/50000 [00:00<?, ?it/s]\n"
     ]
    },
    {
     "ename": "UnboundLocalError",
     "evalue": "cannot access local variable 'ball_change_y' where it is not associated with a value",
     "output_type": "error",
     "traceback": [
      "\u001b[1;31m---------------------------------------------------------------------------\u001b[0m",
      "\u001b[1;31mUnboundLocalError\u001b[0m                         Traceback (most recent call last)",
      "Cell \u001b[1;32mIn[13], line 4\u001b[0m\n\u001b[0;32m      1\u001b[0m \u001b[39m# A játék fő köre\u001b[39;00m\n\u001b[0;32m      2\u001b[0m clock \u001b[39m=\u001b[39m pong\u001b[39m.\u001b[39mpygame\u001b[39m.\u001b[39mtime\u001b[39m.\u001b[39mClock()\n\u001b[1;32m----> 4\u001b[0m rewards, epsilon_history \u001b[39m=\u001b[39m pong\u001b[39m.\u001b[39;49mplay_episodes(\n\u001b[0;32m      5\u001b[0m     n_episodes\u001b[39m=\u001b[39;49m\u001b[39m50_000\u001b[39;49m,\n\u001b[0;32m      6\u001b[0m     \u001b[39m#n_episodes=100,\u001b[39;49;00m\n\u001b[0;32m      7\u001b[0m     max_epsilon\u001b[39m=\u001b[39;49m\u001b[39m1.0\u001b[39;49m,\n\u001b[0;32m      8\u001b[0m     min_epsilon\u001b[39m=\u001b[39;49m\u001b[39m0.05\u001b[39;49m,\n\u001b[0;32m      9\u001b[0m     decay_rate\u001b[39m=\u001b[39;49m\u001b[39m0.0001\u001b[39;49m,\n\u001b[0;32m     10\u001b[0m     gamma\u001b[39m=\u001b[39;49m\u001b[39m0.95\u001b[39;49m,\n\u001b[0;32m     11\u001b[0m     learn\u001b[39m=\u001b[39;49m\u001b[39mTrue\u001b[39;49;00m,\n\u001b[0;32m     12\u001b[0m     viz\u001b[39m=\u001b[39;49m\u001b[39mFalse\u001b[39;49;00m,\n\u001b[0;32m     13\u001b[0m     human\u001b[39m=\u001b[39;49m\u001b[39mFalse\u001b[39;49;00m,\n\u001b[0;32m     14\u001b[0m     log\u001b[39m=\u001b[39;49m\u001b[39mFalse\u001b[39;49;00m\n\u001b[0;32m     15\u001b[0m )\n",
      "File \u001b[1;32mc:\\Users\\hallgato\\Desktop\\mestint\\pong.py:159\u001b[0m, in \u001b[0;36mplay_episodes\u001b[1;34m(n_episodes, max_epsilon, min_epsilon, decay_rate, gamma, learn, viz, human, log)\u001b[0m\n\u001b[0;32m    156\u001b[0m reset()\n\u001b[0;32m    158\u001b[0m \u001b[39m#első állapot beállítása\u001b[39;00m\n\u001b[1;32m--> 159\u001b[0m state \u001b[39m=\u001b[39m encode_state(ball_x, ball_y, rect_x, rect_y, ball_change_x, ball_change_y)\n\u001b[0;32m    160\u001b[0m \u001b[39mif\u001b[39;00m state \u001b[39mnot\u001b[39;00m \u001b[39min\u001b[39;00m state_to_id:\n\u001b[0;32m    161\u001b[0m     state_to_id[state] \u001b[39m=\u001b[39m \u001b[39mlen\u001b[39m(state_to_id)\n",
      "\u001b[1;31mUnboundLocalError\u001b[0m: cannot access local variable 'ball_change_y' where it is not associated with a value"
     ]
    }
   ],
   "source": [
    "# A játék fő köre\n",
    "clock = pong.pygame.time.Clock()\n",
    "\n",
    "rewards, epsilon_history = pong.play_episodes(\n",
    "    n_episodes=50_000,\n",
    "    #n_episodes=100,\n",
    "    max_epsilon=1.0,\n",
    "    min_epsilon=0.05,\n",
    "    decay_rate=0.0001,\n",
    "    gamma=0.95,\n",
    "    learn=True,\n",
    "    viz=False,\n",
    "    human=False,\n",
    "    log=False\n",
    ")"
   ]
  }
 ],
 "metadata": {
  "kernelspec": {
   "display_name": "Python 3",
   "language": "python",
   "name": "python3"
  },
  "language_info": {
   "codemirror_mode": {
    "name": "ipython",
    "version": 3
   },
   "file_extension": ".py",
   "mimetype": "text/x-python",
   "name": "python",
   "nbconvert_exporter": "python",
   "pygments_lexer": "ipython3",
   "version": "3.11.1 (tags/v3.11.1:a7a450f, Dec  6 2022, 19:58:39) [MSC v.1934 64 bit (AMD64)]"
  },
  "orig_nbformat": 4,
  "vscode": {
   "interpreter": {
    "hash": "5238573367df39f7286bb46f9ff5f08f63a01a80960060ce41e3c79b190280fa"
   }
  }
 },
 "nbformat": 4,
 "nbformat_minor": 2
}
