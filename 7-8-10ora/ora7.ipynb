{
 "cells": [
  {
   "cell_type": "markdown",
   "id": "7c1f3c7c",
   "metadata": {},
   "source": [
    "## 7. Óra \n",
    "# Kényszerkielégítés"
   ]
  },
  {
   "cell_type": "markdown",
   "id": "f583efce",
   "metadata": {},
   "source": [
    "milyen adatokkal lehet megadni egy kényszer-kielégítési feladatot?\n",
    "-   változók: WA,NT,Q,NSW,V,SA,T\n",
    "-   tartományok: Di = {piros,kék,zöld}\n",
    "-   kényszerek: a szomszédos tartomány nem lehet ugyanolyan színű"
   ]
  },
  {
   "cell_type": "markdown",
   "id": "80b7892e",
   "metadata": {},
   "source": [
    "A feladat célja az lenne, hogy Ausztrália tartományait színezgetjükk, de szomszédos tartományok nem lehetnek egyforma színűek. "
   ]
  },
  {
   "cell_type": "code",
   "execution_count": 1,
   "id": "e7fac6af",
   "metadata": {},
   "outputs": [],
   "source": [
    "#Képezzük le gráfra Ausztráliát\n",
    "graph = [[0,1,1,0,0,0],\n",
    "        [1,0,1,1,1,1],\n",
    "        [1,1,0,1,1,1],\n",
    "        [0,1,1,0,1,0],\n",
    "        [0,1,1,1,0,1],\n",
    "        [0,1,1,0,1,0]]"
   ]
  },
  {
   "cell_type": "code",
   "execution_count": 2,
   "id": "1c253e7c",
   "metadata": {},
   "outputs": [
    {
     "data": {
      "image/png": "[encoded data removed]",
      "text/plain": [
       "<Figure size 432x288 with 1 Axes>"
      ]
     },
     "metadata": {},
     "output_type": "display_data"
    }
   ],
   "source": [
    "import networkx as nx\n",
    "import matplotlib.pyplot as plt\n",
    "\n",
    "#Ezekkel a bigyókkal lehet grágokat készíteni\n",
    "\n",
    "G = nx.Graph()\n",
    "for i in range(len(graph)):\n",
    "    for j in range(i+1,len(graph)):\n",
    "        if graph[i][j]:\n",
    "            G.add_edge(i,j)\n",
    "            #G.add_edge(i + 1,j + 1)\n",
    "\n",
    "pos = nx.spring_layout(G)\n",
    "nx.draw(G,pos)\n",
    "nx.draw_networkx_labels(G,pos)\n",
    "plt.show()"
   ]
  },
  {
   "cell_type": "markdown",
   "id": "50b61efc",
   "metadata": {},
   "source": [
    "# Visszalépéses algoritmus\n"
   ]
  },
  {
   "cell_type": "code",
   "execution_count": 3,
   "id": "e83569d5",
   "metadata": {},
   "outputs": [],
   "source": [
    "def is_safe(graph,color,v,c):\n",
    "    \"\"\"\n",
    "    ellenőrzi hogy egy adott szin biztonságos-e a csúcson\n",
    "    ha van  szomszédja, amely már ugyanaz a szín,\n",
    "    akkor a vizsgált csúcs nem lehet olyan\n",
    "    \"\"\"\n",
    "\n",
    "    for i in range(len(graph)):\n",
    "        if graph[v][i] and c == color[i]:\n",
    "            return False\n",
    "    return True"
   ]
  },
  {
   "cell_type": "code",
   "execution_count": 4,
   "id": "f55e3ed9",
   "metadata": {},
   "outputs": [],
   "source": [
    "def backtracking(graph,graf_colors,v,colors):\n",
    "    \"\"\"a graph_coloring_util függvény rekurzivan meghívja önmagát minden csúcsra.\n",
    "    Ha van már olyan színű szomszédja, ami adni akar, akkor mást ad\"\"\"\n",
    "\n",
    "    if v == len(graph):\n",
    "        return True\n",
    "\n",
    "    for c in range(colors):\n",
    "        if is_safe(graph,graf_colors,v,c):\n",
    "            graf_colors[v] = c\n",
    "\n",
    "            if backtracking(graph,graf_colors,v+1,colors):\n",
    "                return True\n",
    "\n",
    "            graf_colors[v] = -1\n",
    "    \n",
    "    return False"
   ]
  },
  {
   "cell_type": "code",
   "execution_count": 5,
   "id": "45eb1cd3",
   "metadata": {},
   "outputs": [],
   "source": [
    "def graph_coloring(graph,colors):\n",
    "    n=len(graph)\n",
    "    graf_colors = [-1] * n\n",
    "    graf_colors[0] = 0\n",
    "\n",
    "    if not backtracking(graph,graf_colors,0,colors):\n",
    "        return None\n",
    "\n",
    "    return graf_colors"
   ]
  },
  {
   "cell_type": "code",
   "execution_count": 6,
   "id": "2c6a556a",
   "metadata": {},
   "outputs": [
    {
     "name": "stdout",
     "output_type": "stream",
     "text": [
      "a gráf színezése:  [0, 1, 2, 0, 3, 0]\n"
     ]
    }
   ],
   "source": [
    "colors = 4\n",
    "coloring = graph_coloring(graph,colors)\n",
    "\n",
    "if coloring:\n",
    "    print(\"a gráf színezése: \",coloring)\n",
    "else:\n",
    "    print(\"nem találtam megoldást\")"
   ]
  },
  {
   "cell_type": "code",
   "execution_count": null,
   "id": "75f7dfe3",
   "metadata": {},
   "outputs": [],
   "source": [
    "def is_safe_csp(graph, colors):\n",
    "\n",
    "    for i in range(len(graph)):\n",
    "        for j in range(i+1,len(graph)):\n",
    "            if graph[i][j] and colors[j] == colors[i]:\n",
    "                return False\n",
    "    return True"
   ]
  },
  {
   "cell_type": "code",
   "execution_count": null,
   "id": "c47977dd",
   "metadata": {},
   "outputs": [],
   "source": [
    "def graph_coloring_csp(graph,colors,v,graf_colors):\n",
    "\n",
    "    if v == len(graph):\n",
    "\n",
    "        if is_safe_csp(graph,graf_colors):\n",
    "            print(graf_colors)\n",
    "            return True\n",
    "        else:\n",
    "            return False\n",
    "\n",
    "    for j in range(0,colors):\n",
    "        graf_colors[v] = j\n",
    "        if graph_coloring_csp(graph,colors,v+1,graf_colors):\n",
    "            return True\n",
    "        graf_colors[v] = -1"
   ]
  },
  {
   "cell_type": "code",
   "execution_count": null,
   "id": "f6e880f7",
   "metadata": {},
   "outputs": [],
   "source": [
    "colors = 4\n",
    "graf_colors = [-1]*len(graph)\n",
    "graph_coloring_csp(graph,colors,0,graf_colors)"
   ]
  }
 ],
 "metadata": {
  "kernelspec": {
   "display_name": "Python 3 (ipykernel)",
   "language": "python",
   "name": "python3"
  },
  "language_info": {
   "codemirror_mode": {
    "name": "ipython",
    "version": 3
   },
   "file_extension": ".py",
   "mimetype": "text/x-python",
   "name": "python",
   "nbconvert_exporter": "python",
   "pygments_lexer": "ipython3",
   "version": "3.9.12"
  }
 },
 "nbformat": 4,
 "nbformat_minor": 5
}
