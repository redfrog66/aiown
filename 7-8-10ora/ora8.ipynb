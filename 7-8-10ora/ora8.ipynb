{
 "cells": [
  {
   "cell_type": "markdown",
   "id": "79742f00",
   "metadata": {},
   "source": [
    "## 8. óra\n",
    "# TIC-TAC-TOE játék\n"
   ]
  },
  {
   "cell_type": "markdown",
   "id": "1498af25",
   "metadata": {},
   "source": [
    "## TIC TAC TOE\n",
    "\n",
    "Jellemzők\n",
    "    - H = {0,1,2}, ahol 0 üres, 1 előző játékosé, 2 második játékosé\n",
    "    - És 9 darab H lehet\n",
    "\n",
    "- Állások halmaza(állapotok halmaza)_\n",
    "    - A C H.^(3*3)\n",
    "    - fˇv = {0,1,2} -> {0,1} ahol v E {1,2} és fˇv = {1, ha x = v | 0, egyébként\n",
    "\n",
    "- Kezdőállapot:\n",
    "    - Üres a tábla"
   ]
  },
  {
   "cell_type": "markdown",
   "id": "0c55abdb",
   "metadata": {},
   "source": [
    "- Lépések (Operátorok):\n",
    "    - L = {lˇ(i,j,k) | i E{1,2,3}^j } \n",
    "    \n",
    "    ###### Tanárúr túl gyors, nem bírjuk leírni"
   ]
  },
  {
   "cell_type": "markdown",
   "id": "87617a08",
   "metadata": {},
   "source": [
    "# Random Player módszer"
   ]
  },
  {
   "cell_type": "code",
   "execution_count": null,
   "id": "5470a3a8",
   "metadata": {},
   "outputs": [],
   "source": [
    "from ora8.tictactoe import TicTacToe #Megírjuk a cuccokat a tic-tac-toehoz\n",
    "egy külön fájlba\n",
    "\n",
    "ttt = TicTacToe()\n",
    "ttt.display(ttt.initial) #ez pontokkal fogja szemléltetni, hogy is néz ki majd"
   ]
  },
  {
   "cell_type": "code",
   "execution_count": null,
   "id": "f7faff22",
   "metadata": {},
   "outputs": [],
   "source": [
    "from ora8.tictactoe import GameState\n",
    "\n",
    "my_state = GameState(to_move='X',\n",
    "                     utility= '0',\n",
    "                     board = {(1,1):'X',(1,2):'O',(1,3):'X',\n",
    "                                (2,1):'O',          (2,3): 'O',\n",
    "                                (3,1):'X'},\n",
    "                     moves = [ (2,2), (3,2),(3,3)])\n",
    "ttt.display(my_state)"
   ]
  },
  {
   "cell_type": "code",
   "execution_count": null,
   "id": "06287503",
   "metadata": {},
   "outputs": [],
   "source": [
    "import random\n",
    "\n",
    "def random_player(game,state):\n",
    "    \"\"\" A random játékos választ véletlen egy lehetséges lépést\"\"\"\n",
    "    return random.choice(game.actions(state)) if game.actions(state) else None\n",
    "\n",
    "random_player(ttt,my_state)"
   ]
  },
  {
   "cell_type": "code",
   "execution_count": null,
   "id": "df402482",
   "metadata": {},
   "outputs": [],
   "source": [
    "ttt.play_game(random_player,random_player) #random játékos vs random játékos\n"
   ]
  },
  {
   "cell_type": "markdown",
   "id": "701464c0",
   "metadata": {},
   "source": [
    "# Min-max módszer"
   ]
  },
  {
   "cell_type": "code",
   "execution_count": null,
   "id": "9990251c",
   "metadata": {},
   "outputs": [],
   "source": [
    "from ora8.decision import minmax\n",
    "\n",
    "def minmax_player(game,state):\n",
    "    return minmax(state,game)"
   ]
  },
  {
   "cell_type": "code",
   "execution_count": null,
   "id": "5461be31",
   "metadata": {},
   "outputs": [],
   "source": [
    "ttt.play_game(minmax_player,random_player) #minmax játékos vs random játékos"
   ]
  },
  {
   "cell_type": "markdown",
   "id": "7fd9de08",
   "metadata": {},
   "source": [
    "# Alpha-beta módszer"
   ]
  },
  {
   "cell_type": "code",
   "execution_count": null,
   "id": "f7aef5e5",
   "metadata": {},
   "outputs": [],
   "source": [
    "from ora8.decision import alpha_beta_search\n",
    "\n",
    "def alpha_beta_player(game,state):\n",
    "    return alpha_beta_search(state,game)"
   ]
  },
  {
   "cell_type": "code",
   "execution_count": null,
   "id": "c57305bf",
   "metadata": {},
   "outputs": [],
   "source": [
    "ttt.play_game(alpha_beta_player,random_player) #alpha-beta játékos vs random"
   ]
  },
  {
   "cell_type": "code",
   "execution_count": null,
   "id": "0127ff66",
   "metadata": {},
   "outputs": [],
   "source": [
    "ttt.play_game(alpha_beta_player,minmax_player) #alpha-beta vs minmax\n"
   ]
  }
 ],
 "metadata": {
  "kernelspec": {
   "display_name": "Python 3 (ipykernel)",
   "language": "python",
   "name": "python3"
  },
  "language_info": {
   "codemirror_mode": {
    "name": "ipython",
    "version": 3
   },
   "file_extension": ".py",
   "mimetype": "text/x-python",
   "name": "python",
   "nbconvert_exporter": "python",
   "pygments_lexer": "ipython3",
   "version": "3.9.12"
  }
 },
 "nbformat": 4,
 "nbformat_minor": 5
}
